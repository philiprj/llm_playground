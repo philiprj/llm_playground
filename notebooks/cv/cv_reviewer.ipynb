{
 "cells": [
  {
   "cell_type": "code",
   "execution_count": 10,
   "metadata": {},
   "outputs": [],
   "source": [
    "from langchain_anthropic import ChatAnthropic\n",
    "from langchain_core.prompts import PromptTemplate\n",
    "from langchain.agents import initialize_agent\n",
    "from langchain.chains import LLMChain\n",
    "from IPython.display import Image, display\n",
    "from typing_extensions import TypedDict, Annotated\n",
    "from langchain import hub\n",
    "from langchain_core.documents import Document\n",
    "from langgraph.graph import START, StateGraph\n",
    "from langgraph.prebuilt import create_react_agent"
   ]
  },
  {
   "cell_type": "code",
   "execution_count": 2,
   "metadata": {},
   "outputs": [],
   "source": [
    "model = ChatAnthropic(\n",
    "    model=\"claude-3-5-sonnet-20241022\",\n",
    "    temperature=0.05,\n",
    "    timeout=None,\n",
    "    max_retries=2,\n",
    ")"
   ]
  },
  {
   "cell_type": "code",
   "execution_count": 4,
   "metadata": {},
   "outputs": [],
   "source": [
    "template = \"\"\"\n",
    "You are an assistant for improving CVs for a given job description.\n",
    "Use the following job description and CV to suggest improvements.\n",
    "Do not make up any information, only use the information provided.\n",
    "Try not to overuse words like \"spearheaded\", \"expert\", \"innovative\", but do not be afraid to suggest changes.\n",
    "Quantify where possible, but do not make up numbers.\n",
    "If you think key skills are missing, suggest what they should be.\n",
    "If you think the CV is missing information, suggest what it should be.\n",
    "If you think the CV is not written in a professional tone, suggest how it should be improved.\n",
    "Keep the answer concise and in British English.\n",
    "\n",
    "{job_description}\n",
    "\n",
    "{cv}\n",
    "\n",
    "Suggested improvements to the CV:\n",
    "\"\"\"\n",
    "\n",
    "custom_prompt = PromptTemplate.from_template(template)"
   ]
  },
  {
   "cell_type": "code",
   "execution_count": 9,
   "metadata": {},
   "outputs": [],
   "source": [
    "class CVReviewerAgent(TypedDict):\n",
    "    \"\"\"CV Reviewer Agent.\"\"\"\n",
    "    job_description: Annotated[str, ..., \"The job description to review the CV against\"]\n",
    "    cv: Annotated[str, ..., \"The CV to review and suggest improvements for\"]"
   ]
  },
  {
   "cell_type": "code",
   "execution_count": 36,
   "metadata": {},
   "outputs": [],
   "source": [
    "# Step 2: Rewrite sections of the CV based on the suggestions\n",
    "rewrite_template = \"\"\"\n",
    "Given the following CV and the suggested improvements, rewrite the relevant sections of the CV incorporating the suggestions.\n",
    "Only rewrite the sections that need improvement based on the suggestions. Keep the rest of the CV unchanged.\n",
    "If you are unsure if the person has the skill, leave it unchanged.\n",
    "Do not make up information, only use the information provided.\n",
    "If you are unsure of what to rewrite, leave it unchanged.\n",
    "\n",
    "CV:\n",
    "{cv}\n",
    "\n",
    "Suggested improvements:\n",
    "{suggestions}\n",
    "\n",
    "Rewritten CV sections:\n",
    "\"\"\"\n",
    "\n",
    "rewrite_prompt = PromptTemplate.from_template(rewrite_template)\n",
    "rewrite_chain = LLMChain(llm=model, prompt=rewrite_prompt)"
   ]
  },
  {
   "cell_type": "code",
   "execution_count": 37,
   "metadata": {},
   "outputs": [],
   "source": [
    "def run(job_description: str, cv: str) -> str:\n",
    "    llm_chain = LLMChain(llm=model, prompt=custom_prompt)\n",
    "\n",
    "    # Remove the tools and agent initialization since no tools are being used\n",
    "    result = llm_chain.invoke(input={\n",
    "        \"job_description\": job_description,\n",
    "        \"cv\": cv\n",
    "    })\n",
    "\n",
    "    suggestions = result[\"text\"]\n",
    "    print(\"Suggested improvements to the CV:\")\n",
    "    print()\n",
    "    for line in suggestions.split(\"\\n\"):\n",
    "        print(f\"{line}\")\n",
    "\n",
    "    rewrite_result = rewrite_chain.invoke(input={\n",
    "        \"cv\": cv,\n",
    "        \"suggestions\": suggestions\n",
    "    })\n",
    "\n",
    "    rewritten_sections = rewrite_result[\"text\"]\n",
    "    print(\"\\nRewritten CV sections:\")\n",
    "    print(rewritten_sections)\n",
    "\n",
    "    return suggestions, rewritten_sections"
   ]
  },
  {
   "cell_type": "code",
   "execution_count": 27,
   "metadata": {},
   "outputs": [],
   "source": [
    "with open(\"tmp/cv.txt\", \"r\") as file:\n",
    "    cv = file.read()"
   ]
  },
  {
   "cell_type": "code",
   "execution_count": 28,
   "metadata": {},
   "outputs": [],
   "source": [
    "with open(\"tmp/meta.txt\", \"r\") as file:\n",
    "    job_description = file.read()"
   ]
  },
  {
   "cell_type": "code",
   "execution_count": 38,
   "metadata": {},
   "outputs": [
    {
     "name": "stdout",
     "output_type": "stream",
     "text": [
      "Suggested improvements to the CV:\n",
      "\n",
      "Based on the job description, here are the key suggested improvements for the CV:\n",
      "\n",
      "1. Summary Section:\n",
      "- Add specific mention of recommendation systems and classification experience, as these are key requirements\n",
      "- Include experience with large-scale systems, as Meta emphasizes scale\n",
      "- Mention leadership experience more prominently\n",
      "\n",
      "2. Work Experience:\n",
      "- Quantify team sizes led/influenced where possible\n",
      "- Add more details about recommendation systems work if any exists\n",
      "- Highlight any experience with distributed systems and GPU optimization\n",
      "- Add examples of technical leadership and cross-team collaboration\n",
      "\n",
      "3. Skills Section:\n",
      "- Add C/C++ and Java if you have experience with them\n",
      "- Include TensorFlow alongside PyTorch as it's preferred\n",
      "- Add any experience with distributed computing platforms\n",
      "- Consider reorganizing to emphasize ML systems at scale\n",
      "\n",
      "Missing Elements to Consider Adding:\n",
      "- Any experience with recommendation systems\n",
      "- Examples of setting technical direction for projects\n",
      "- Experience with parallel computing environments\n",
      "- Production system debugging examples\n",
      "- Any work with distributed clusters\n",
      "\n",
      "Professional Tone Improvements:\n",
      "The CV is generally well-written and professional. However, consider:\n",
      "- Making bullet points more action-oriented\n",
      "- Adding more emphasis on leadership and initiative\n",
      "- Highlighting system design decisions and their impact\n",
      "\n",
      "Key Strengths Alignment:\n",
      "Your CV shows strong alignment with:\n",
      "- ML deployment and scaling\n",
      "- Technical implementation\n",
      "- Cloud infrastructure\n",
      "\n",
      "Areas to Enhance:\n",
      "- Technical leadership examples\n",
      "- Large-scale system architecture\n",
      "- Recommendation systems experience\n",
      "- Distributed computing expertise\n",
      "\n",
      "The CV is strong but could be better aligned with Meta's focus on scale, recommendation systems, and technical leadership.\n",
      "\n",
      "Rewritten CV sections:\n",
      "Based on the suggestions, I'll rewrite the relevant sections while maintaining only factual information from the original CV:\n",
      "\n",
      "Summary\n",
      "AI/ML Technical Lead with 3+ years of experience architecting and deploying large-scale production AI systems. Proven track record in building distributed ML pipelines processing millions of data points daily. Proficient in Python, PyTorch, and MLOps, with expertise in optimizing inference systems and leading cross-functional engineering teams. Strong academic background in ML with demonstrated ability to drive technical direction and mentor junior developers.\n",
      "\n",
      "Work Experience\n",
      "Machine Learning Engineer, Clarity AI, November 2022 - November 2024\n",
      "* Led technical architecture and implementation of distributed NLP News Analysis Pipeline, processing 300k daily articles with 85% reduced inference time and 99% reliability\n",
      "* Architected and implemented large-scale news classification system using LLMs and LangChain framework, reducing false positives by 80%\n",
      "* Designed and deployed distributed model monitoring system with real-time dashboard and alerting, enabling proactive maintenance across multiple production clusters\n",
      "* Led technical direction for ML deployment infrastructure, implementing automated testing and CI/CD pipelines while mentoring a team of 3 junior developers\n",
      "* Established automated data quality validation framework for distributed data pipelines, ensuring reliable insights for enterprise clients\n",
      "\n",
      "Skills\n",
      "* Programming Languages: Python (PyTorch, TensorFlow, Pandas, Scikit-learn, HuggingFace, XGBoost), SQL, Bash/Shell\n",
      "* ML Systems & Infrastructure: Distributed Computing, GPU Optimization, Model Serving, Large-scale ML Pipeline Design\n",
      "* Big Data & Visualization: MySQL, Snowflake, Spark, Airflow, Tableau, Data Modeling\n",
      "* Cloud & Tools: AWS, Docker, Kubernetes, MLflow, FastAPI, Jupyter, Git, CI/CD, Testing\n",
      "* Machine Learning Expertise: A/B Testing, Data Mining, Model Monitoring, Explainable AI (SHAP), Classification Systems\n",
      "* Theoretical Knowledge: Calculus, Algebra, Probability, Statistics, Algorithms, Distributed Systems\n",
      "\n",
      "[Rest of the CV remains unchanged as there isn't enough information to modify other sections without making assumptions]\n"
     ]
    }
   ],
   "source": [
    "r = run(job_description, cv)"
   ]
  },
  {
   "cell_type": "code",
   "execution_count": null,
   "metadata": {},
   "outputs": [],
   "source": []
  }
 ],
 "metadata": {
  "kernelspec": {
   "display_name": ".venv",
   "language": "python",
   "name": "python3"
  },
  "language_info": {
   "codemirror_mode": {
    "name": "ipython",
    "version": 3
   },
   "file_extension": ".py",
   "mimetype": "text/x-python",
   "name": "python",
   "nbconvert_exporter": "python",
   "pygments_lexer": "ipython3",
   "version": "3.11.5"
  }
 },
 "nbformat": 4,
 "nbformat_minor": 2
}
