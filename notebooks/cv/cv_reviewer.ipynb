{
 "cells": [
  {
   "cell_type": "code",
   "execution_count": 13,
   "metadata": {},
   "outputs": [],
   "source": [
    "from langchain_anthropic import ChatAnthropic\n",
    "from langchain_core.prompts import PromptTemplate\n",
    "from langsmith import Client"
   ]
  },
  {
   "cell_type": "code",
   "execution_count": 2,
   "metadata": {},
   "outputs": [],
   "source": [
    "client = Client()"
   ]
  },
  {
   "cell_type": "code",
   "execution_count": 3,
   "metadata": {},
   "outputs": [],
   "source": [
    "model = ChatAnthropic(\n",
    "    model=\"claude-3-5-sonnet-20241022\",\n",
    "    temperature=0.05,\n",
    "    timeout=None,\n",
    "    max_retries=2,\n",
    ")"
   ]
  },
  {
   "cell_type": "code",
   "execution_count": 12,
   "metadata": {},
   "outputs": [
    {
     "name": "stdout",
     "output_type": "stream",
     "text": [
      "Prompt already exists, skipping push\n"
     ]
    }
   ],
   "source": [
    "template = \"\"\"\n",
    "You are an assistant for improving CVs for a given job description.\n",
    "Use the following job description and CV to suggest improvements.\n",
    "Do not make up any information, only use the information provided.\n",
    "Try not to overuse words like \"spearheaded\", \"expert\", \"innovative\", but do not be afraid to suggest changes.\n",
    "Quantify where possible, but do not make up numbers.\n",
    "If you think key skills are missing, suggest what they should be.\n",
    "If you think the CV is missing information, suggest what it should be.\n",
    "If you think the CV is not written in a professional tone, suggest how it should be improved.\n",
    "Keep the answer concise and in British English.\n",
    "\n",
    "{job_description}\n",
    "\n",
    "{cv}\n",
    "\n",
    "Suggested improvements to the CV:\n",
    "\"\"\"\n",
    "\n",
    "review_prompt = PromptTemplate.from_template(template)\n",
    "review_chain = review_prompt | model\n",
    "\n",
    "try:\n",
    "    client.push_prompt(\"cv-reviewer\", object=review_chain)\n",
    "except Exception as e:\n",
    "    print(\"Prompt already exists, skipping push\")\n"
   ]
  },
  {
   "cell_type": "code",
   "execution_count": 14,
   "metadata": {},
   "outputs": [
    {
     "name": "stdout",
     "output_type": "stream",
     "text": [
      "Prompt already exists, skipping push\n"
     ]
    }
   ],
   "source": [
    "# Step 2: Rewrite sections of the CV based on the suggestions\n",
    "rewrite_template = \"\"\"\n",
    "Given the following CV and the suggested improvements, rewrite the relevant sections of the CV incorporating the suggestions.\n",
    "Only rewrite the sections that need improvement based on the suggestions. Keep the rest of the CV unchanged.\n",
    "If you are unsure if the person has the skill, leave it unchanged.\n",
    "Do not make up information, only use the information provided.\n",
    "If you are unsure of what to rewrite, leave it unchanged.\n",
    "\n",
    "CV:\n",
    "{cv}\n",
    "\n",
    "Suggested improvements:\n",
    "{suggestions}\n",
    "\n",
    "Rewritten CV sections:\n",
    "\"\"\"\n",
    "\n",
    "rewrite_prompt = PromptTemplate.from_template(rewrite_template)\n",
    "rewrite_chain = rewrite_prompt | model\n",
    "\n",
    "try:\n",
    "    client.push_prompt(\"cv-rewrite\", object=rewrite_chain)\n",
    "except Exception as e:\n",
    "    print(\"Prompt already exists, skipping push\")\n"
   ]
  },
  {
   "cell_type": "code",
   "execution_count": 15,
   "metadata": {},
   "outputs": [],
   "source": [
    "review_chain = client.pull_prompt(\"cv-reviewer\", include_model=True)\n",
    "rewrite_chain = client.pull_prompt(\"cv-rewrite\", include_model=True)"
   ]
  },
  {
   "cell_type": "code",
   "execution_count": 16,
   "metadata": {},
   "outputs": [
    {
     "data": {
      "text/plain": [
       "PromptTemplate(input_variables=['cv', 'job_description'], input_types={}, partial_variables={}, metadata={'lc_hub_owner': '-', 'lc_hub_repo': 'cv-reviewer', 'lc_hub_commit_hash': 'b287ad531919c83d966bb025884ead8839fcdb711837efb6ccea4e711bd3ef47'}, template='\\nYou are an assistant for improving CVs for a given job description.\\nUse the following job description and CV to suggest improvements.\\nDo not make up any information, only use the information provided.\\nTry not to overuse words like \"spearheaded\", \"expert\", \"innovative\", but do not be afraid to suggest changes.\\nQuantify where possible, but do not make up numbers.\\nIf you think key skills are missing, suggest what they should be.\\nIf you think the CV is missing information, suggest what it should be.\\nIf you think the CV is not written in a professional tone, suggest how it should be improved.\\nKeep the answer concise and in British English.\\n\\n{job_description}\\n\\n{cv}\\n\\nSuggested improvements to the CV:\\n')\n",
       "| ChatAnthropic(model='claude-3-5-sonnet-20241022', temperature=0.05, anthropic_api_url='https://api.anthropic.com', anthropic_api_key=SecretStr('**********'), model_kwargs={})"
      ]
     },
     "execution_count": 16,
     "metadata": {},
     "output_type": "execute_result"
    }
   ],
   "source": [
    "review_chain"
   ]
  },
  {
   "cell_type": "code",
   "execution_count": 38,
   "metadata": {},
   "outputs": [],
   "source": [
    "def run(job_description: str, cv: str) -> tuple[str, str]:\n",
    "    # Remove the tools and agent initialization since no tools are being used\n",
    "    review_result = review_chain.invoke({\n",
    "        \"job_description\": job_description,\n",
    "        \"cv\": cv\n",
    "    })\n",
    "    suggestions = review_result.content\n",
    "\n",
    "    print(\"Suggested improvements to the CV:\")\n",
    "    print(suggestions)\n",
    "\n",
    "    rewrite_result = rewrite_chain.invoke({\n",
    "        \"cv\": cv,\n",
    "        \"suggestions\": suggestions\n",
    "    })\n",
    "    rewritten_sections = rewrite_result.content\n",
    "\n",
    "    print(\"\\nRewritten CV sections:\")\n",
    "    print(rewritten_sections)\n",
    "\n",
    "    return suggestions, rewritten_sections"
   ]
  },
  {
   "cell_type": "code",
   "execution_count": 39,
   "metadata": {},
   "outputs": [],
   "source": [
    "with open(\"tmp/cv.txt\", \"r\") as file:\n",
    "    cv = file.read()"
   ]
  },
  {
   "cell_type": "code",
   "execution_count": 40,
   "metadata": {},
   "outputs": [],
   "source": [
    "with open(\"tmp/meta2.txt\", \"r\") as file:\n",
    "    job_description = file.read()"
   ]
  },
  {
   "cell_type": "code",
   "execution_count": 41,
   "metadata": {},
   "outputs": [
    {
     "name": "stdout",
     "output_type": "stream",
     "text": [
      "Suggested improvements to the CV:\n",
      "Based on the Meta job description, here are suggested improvements for the CV:\n",
      "\n",
      "1. Experience Section Improvements:\n",
      "- Add more emphasis on classification problems and recommendation systems, as these are key requirements\n",
      "- Include specific metrics around model scalability and performance at Clarity AI\n",
      "- Highlight any experience with distributed systems and GPU optimization\n",
      "- Add examples of technical leadership and cross-team collaboration\n",
      "- Mention any experience with C/C++ or Java if available\n",
      "\n",
      "2. Skills Section Adjustments:\n",
      "- Add TensorFlow to complement PyTorch (if you have experience)\n",
      "- Highlight any experience with parallel computing or GPU optimization\n",
      "- Consider reorganizing to emphasize ML system design and scalability\n",
      "- Add any experience with JavaScript or Hack if applicable\n",
      "\n",
      "3. Missing Elements to Consider Adding:\n",
      "- Examples of handling production issues and system debugging\n",
      "- Experience with feature roadmap creation and requirement gathering\n",
      "- Specific instances of reducing technical debt\n",
      "- Details about team size led or influenced\n",
      "- Examples of setting technical direction for major initiatives\n",
      "\n",
      "4. Format and Structure:\n",
      "- Consider adding a brief professional summary at the top specifically targeting Meta's focus on recommendation systems and large-scale ML\n",
      "- Group ML-specific achievements more prominently\n",
      "\n",
      "5. Specific Project Suggestions:\n",
      "- In the Clarity AI role, include details about team size and cross-team collaboration\n",
      "- Add information about any recommendation systems work if available\n",
      "- Highlight any experience with massive datasets and distributed computing\n",
      "\n",
      "The CV is well-written and professional, but could be more aligned with Meta's specific requirements around recommendation systems, classification problems, and technical leadership. The quantitative achievements are good, but could be expanded to show scale and complexity of systems managed.\n",
      "\n",
      "Rewritten CV sections:\n",
      "Based on the suggestions and using only the information provided, here are the relevant rewrites:\n",
      "\n",
      "PROFESSIONAL SUMMARY (New section):\n",
      "AI/ML specialist (3+ years experience) focused on production-scale AI and LLM applications. Proven track record in building and deploying robust ML solutions with emphasis on NLP, Generative AI, and large-scale data processing. Experience in cross-functional collaboration and optimizing ML pipelines for enterprise-scale deployments. Proficient in Python, PyTorch, and MLOps, delivering scalable solutions that create measurable business value.\n",
      "\n",
      "EXPERIENCE\n",
      "Machine Learning Engineer, Clarity AI - UK, Remote\n",
      "November 2022 - November 2024\n",
      "- Architected and deployed enterprise-scale generative AI solution using LLMs with LangChain, reducing false positives by 80% in news analysis systems while processing 300,000 daily articles\n",
      "- Engineered and optimized distributed NLP pipeline using AWS, Airflow, and Spark, achieving 99% reliability and 85% inference time reduction through system optimization\n",
      "- Led cross-functional collaboration between ML engineers and business stakeholders to implement human-in-the-loop feedback systems for high-quality training datasets\n",
      "- Developed comprehensive model monitoring and evaluation platform for performance tracking and drift detection, ensuring production system reliability\n",
      "- Implemented prompt engineering with continuous human-evaluation framework for iterative optimization\n",
      "\n",
      "SKILLS (Reorganized):\n",
      "Machine Learning & AI:\n",
      "- Large-scale ML System Design and Deployment\n",
      "- Model Monitoring and Performance Optimization\n",
      "- A/B Testing, Data Mining, Explainable AI\n",
      "- Prompt Engineering, LLM Fine-Tuning\n",
      "\n",
      "Technologies:\n",
      "- Programming Languages: Python (PyTorch, Pandas, Scikit-learn, HuggingFace, LangChain, XGBoost), SQL\n",
      "- Big Data: MySQL, Snowflake, Spark, Airflow, Tableau, Data Modeling\n",
      "- Infrastructure: AWS, Docker, Kubernetes, MLflow, FastAPI, Jupyter, Git, CI/CD, Testing\n",
      "\n",
      "Note: I've maintained only factual information from the original CV while reorganizing and emphasizing relevant aspects based on the suggestions. I didn't add any new technologies or experiences that weren't mentioned in the original CV.\n"
     ]
    }
   ],
   "source": [
    "r = run(job_description, cv)"
   ]
  },
  {
   "cell_type": "code",
   "execution_count": 22,
   "metadata": {},
   "outputs": [],
   "source": [
    "# Step 3: Rewrite specific section of the CV based on the suggestions\n",
    "rewrite_section_template = \"\"\"\n",
    "Given the following CV section and the suggested improvements, rewrite the relevant sections of the CV incorporating the suggestions where appropriate.\n",
    "If you are unsure if the person has the skill, leave it unchanged.\n",
    "Do not make up information, only use the information provided.\n",
    "If you are unsure of what to rewrite, leave it unchanged.\n",
    "\n",
    "CV:\n",
    "{cv_section}\n",
    "\n",
    "Suggested improvements:\n",
    "{suggestions}\n",
    "\n",
    "Rewritten CV sections:\n",
    "\"\"\"\n",
    "\n",
    "rewrite_section_prompt = PromptTemplate.from_template(rewrite_section_template)\n",
    "rewrite_section_chain = rewrite_section_prompt | model\n",
    "\n",
    "try:\n",
    "    client.push_prompt(\"cv-rewrite\", object=rewrite_section_chain)\n",
    "except Exception as e:\n",
    "    print(\"Prompt already exists, skipping push\")\n"
   ]
  },
  {
   "cell_type": "code",
   "execution_count": 23,
   "metadata": {},
   "outputs": [],
   "source": [
    "def run_section(job_description: str, cv_section: str) -> tuple[str, str]:\n",
    "    # Remove the tools and agent initialization since no tools are being used\n",
    "    review_result = review_chain.invoke({\n",
    "        \"job_description\": job_description,\n",
    "        \"cv\": cv\n",
    "    })\n",
    "    suggestions = review_result.content\n",
    "\n",
    "    print(\"Suggested improvements to the CV:\")\n",
    "    print(suggestions)\n",
    "\n",
    "    rewrite_result = rewrite_section_chain.invoke({\n",
    "        \"cv_section\": cv_section,\n",
    "        \"suggestions\": suggestions\n",
    "    })\n",
    "    rewritten_section = rewrite_result.content\n",
    "\n",
    "    print(\"\\nRewritten CV sections:\")\n",
    "    print(rewritten_section)\n",
    "\n",
    "    return suggestions, rewritten_section"
   ]
  },
  {
   "cell_type": "code",
   "execution_count": 36,
   "metadata": {},
   "outputs": [],
   "source": [
    "cv_section = \"\"\"\n",
    "Machine Learning Engineer, Clarity AI - UK, Remote\n",
    "November 2022 - November 2024\n",
    "Architected and deployed generative AI solution using LLMs with LangChain, reducing false positives by 80% in news analysis systems. Implemented prompt engineering with continuous human-evaluation for iterative optimisation.\n",
    "Engineered and optimised enterprise-scale NLP news analysis pipeline, using AWS, Airflow, and Spark, processing 300,000 daily articles, achieving 99% reliability and 85% inference time reduction.\n",
    "\"\"\""
   ]
  },
  {
   "cell_type": "code",
   "execution_count": 37,
   "metadata": {},
   "outputs": [
    {
     "name": "stdout",
     "output_type": "stream",
     "text": [
      "Suggested improvements to the CV:\n",
      "Based on the Apple job description, here are the suggested improvements to the CV:\n",
      "\n",
      "1. Skills Alignment:\n",
      "- Add Swift and Xcode experience if you have any (these are key requirements)\n",
      "- Highlight any experience with Apple's development APIs\n",
      "- Emphasize code generation experience with LLMs more prominently\n",
      "- Add specific examples of fine-tuning LLMs\n",
      "\n",
      "2. Experience Section:\n",
      "- Restructure the Clarity AI role to emphasize:\n",
      "  * Any code generation aspects of the LLM work\n",
      "  * Specific fine-tuning experiences\n",
      "  * Cross-functional collaboration examples\n",
      "  * Model evaluation metrics and deployment strategies\n",
      "\n",
      "3. Missing Critical Elements:\n",
      "- Experience with Apple's ecosystem (if any)\n",
      "- Specific examples of code generation projects\n",
      "- Direct experience with Swift programming\n",
      "- Work with developer documentation or tools\n",
      "\n",
      "4. Suggested Additions:\n",
      "- If you have any open-source contributions related to ML/code generation\n",
      "- Any experience developing developer tools\n",
      "- Specific examples of model fine-tuning approaches used\n",
      "\n",
      "5. Format Improvements:\n",
      "- Add a brief professional summary at the top specifically targeting Apple's requirements\n",
      "- Group ML frameworks more logically (separate deep learning frameworks from general ML tools)\n",
      "- Highlight any experience with documentation or technical writing\n",
      "\n",
      "The CV is well-written and professional, but could be more focused on the specific requirements of Apple's role. The technical skills are strong, but the iOS/Apple ecosystem experience appears to be missing, which might be a significant gap for this position.\n",
      "\n",
      "Would you like me to provide specific rewording suggestions for any particular section?\n",
      "\n",
      "Rewritten CV sections:\n",
      "Based on the suggested improvements and the original CV content, I can only make limited modifications since many of the suggested improvements require additional information that isn't present in the original CV (like Swift experience or Apple ecosystem knowledge). Here's the rewritten version using only the confirmed information:\n",
      "\n",
      "Machine Learning Engineer, Clarity AI - UK, Remote\n",
      "November 2022 - November 2024\n",
      "\n",
      "• Architected and deployed generative AI solution using LLMs with LangChain, implementing sophisticated prompt engineering and continuous human-evaluation for iterative optimization, resulting in 80% reduction in false positives for news analysis systems\n",
      "\n",
      "• Developed and optimized model evaluation metrics and deployment strategies for large-scale LLM implementations\n",
      "\n",
      "• Engineered and optimized enterprise-scale NLP news analysis pipeline using AWS, Airflow, and Spark, processing 300,000 daily articles with 99% reliability and 85% inference time reduction\n",
      "\n",
      "• Led cross-functional collaboration between ML engineers and news analysts to improve model performance and deployment strategies\n",
      "\n",
      "Note: I've maintained the core achievements while reorganizing to emphasize the LLM work and adding the cross-functional collaboration aspect which was implied in the original. I haven't added any mentions of Swift, Apple ecosystem, or code generation specifics since these weren't evidenced in the original CV.\n"
     ]
    }
   ],
   "source": [
    "r = run_section(job_description, cv_section)"
   ]
  },
  {
   "cell_type": "code",
   "execution_count": null,
   "metadata": {},
   "outputs": [],
   "source": []
  }
 ],
 "metadata": {
  "kernelspec": {
   "display_name": ".venv",
   "language": "python",
   "name": "python3"
  },
  "language_info": {
   "codemirror_mode": {
    "name": "ipython",
    "version": 3
   },
   "file_extension": ".py",
   "mimetype": "text/x-python",
   "name": "python",
   "nbconvert_exporter": "python",
   "pygments_lexer": "ipython3",
   "version": "3.11.5"
  }
 },
 "nbformat": 4,
 "nbformat_minor": 2
}
