{
 "cells": [
  {
   "cell_type": "markdown",
   "metadata": {},
   "source": [
    "# CV reviewer and rewrite"
   ]
  },
  {
   "cell_type": "code",
   "execution_count": 1,
   "metadata": {},
   "outputs": [],
   "source": [
    "from langchain_anthropic import ChatAnthropic\n",
    "from langchain_core.prompts import PromptTemplate\n",
    "from langsmith import Client"
   ]
  },
  {
   "cell_type": "code",
   "execution_count": 2,
   "metadata": {},
   "outputs": [],
   "source": [
    "client = Client()"
   ]
  },
  {
   "cell_type": "code",
   "execution_count": 3,
   "metadata": {},
   "outputs": [],
   "source": [
    "model = ChatAnthropic(\n",
    "    model=\"claude-3-5-sonnet-20241022\",\n",
    "    temperature=0.05,\n",
    "    timeout=None,\n",
    "    max_retries=2,\n",
    ")"
   ]
  },
  {
   "cell_type": "markdown",
   "metadata": {},
   "source": [
    "## Prompts for CV review and rewrite"
   ]
  },
  {
   "cell_type": "code",
   "execution_count": 4,
   "metadata": {},
   "outputs": [
    {
     "name": "stdout",
     "output_type": "stream",
     "text": [
      "Prompt already exists, skipping push\n"
     ]
    }
   ],
   "source": [
    "template = \"\"\"\n",
    "You are an assistant for improving CVs for a given job description.\n",
    "Use the following job description and CV to suggest improvements.\n",
    "Try not to overuse words like \"spearheaded\", \"expert\", \"innovative\", but do not be afraid to suggest changes.\n",
    "Quantify where possible, but do not make up any information, only use the information provided.\n",
    "If you think key skills or informationare missing, suggest what they should be.\n",
    "Keep the answer concise and in British English.\n",
    "\n",
    "{job_description}\n",
    "\n",
    "{cv}\n",
    "\n",
    "Suggested improvements to the CV:\n",
    "\"\"\"\n",
    "\n",
    "review_prompt = PromptTemplate.from_template(template)\n",
    "review_chain = review_prompt | model\n",
    "\n",
    "try:\n",
    "    client.push_prompt(\"cv-reviewer\", object=review_chain)\n",
    "except Exception as e:\n",
    "    print(\"Prompt already exists, skipping push\")\n"
   ]
  },
  {
   "cell_type": "code",
   "execution_count": 5,
   "metadata": {},
   "outputs": [
    {
     "name": "stdout",
     "output_type": "stream",
     "text": [
      "Prompt already exists, skipping push\n"
     ]
    }
   ],
   "source": [
    "# Step 2: Rewrite sections of the CV based on the suggestions\n",
    "rewrite_template = \"\"\"\n",
    "Given the following CV and the suggested improvements, rewrite the relevant sections of the CV incorporating the suggestions.\n",
    "Only rewrite the sections that need improvement based on the suggestions. Keep the rest of the CV unchanged.\n",
    "If you are unsure if the person has the skill, leave it unchanged.\n",
    "Do not make up information, only use the information provided.\n",
    "If you are unsure of what to rewrite, leave it unchanged.\n",
    "\n",
    "CV:\n",
    "{cv}\n",
    "\n",
    "Suggested improvements:\n",
    "{suggestions}\n",
    "\n",
    "Rewritten CV sections:\n",
    "\"\"\"\n",
    "\n",
    "rewrite_prompt = PromptTemplate.from_template(rewrite_template)\n",
    "rewrite_chain = rewrite_prompt | model\n",
    "\n",
    "try:\n",
    "    client.push_prompt(\"cv-rewrite\", object=rewrite_chain)\n",
    "except Exception as e:\n",
    "    print(\"Prompt already exists, skipping push\")\n"
   ]
  },
  {
   "cell_type": "code",
   "execution_count": 6,
   "metadata": {},
   "outputs": [],
   "source": [
    "review_chain = client.pull_prompt(\"cv-reviewer\", include_model=True)\n",
    "rewrite_chain = client.pull_prompt(\"cv-rewrite\", include_model=True)"
   ]
  },
  {
   "cell_type": "code",
   "execution_count": 7,
   "metadata": {},
   "outputs": [
    {
     "data": {
      "text/plain": [
       "PromptTemplate(input_variables=['cv', 'job_description'], input_types={}, partial_variables={}, metadata={'lc_hub_owner': '-', 'lc_hub_repo': 'cv-reviewer', 'lc_hub_commit_hash': 'e4204f07ff6a8fcacd8aa41f4c82ddbd156aac4aba733c3f1a5945b6a0f94279'}, template='\\nYou are an assistant for improving CVs for a given job description.\\nUse the following job description and CV to suggest improvements.\\nTry not to overuse words like \"spearheaded\", \"expert\", \"innovative\", but do not be afraid to suggest changes.\\nQuantify where possible, but do not make up any information, only use the information provided.\\nIf you think key skills or informationare missing, suggest what they should be.\\nKeep the answer concise and in British English.\\n\\n{job_description}\\n\\n{cv}\\n\\nSuggested improvements to the CV:\\n')\n",
       "| ChatAnthropic(model='claude-3-5-sonnet-20241022', temperature=0.05, anthropic_api_url='https://api.anthropic.com', anthropic_api_key=SecretStr('**********'), model_kwargs={})"
      ]
     },
     "execution_count": 7,
     "metadata": {},
     "output_type": "execute_result"
    }
   ],
   "source": [
    "review_chain"
   ]
  },
  {
   "cell_type": "code",
   "execution_count": 8,
   "metadata": {},
   "outputs": [],
   "source": [
    "def run(job_description: str, cv: str) -> tuple[str, str]:\n",
    "    # Remove the tools and agent initialization since no tools are being used\n",
    "    review_result = review_chain.invoke({\n",
    "        \"job_description\": job_description,\n",
    "        \"cv\": cv\n",
    "    })\n",
    "    suggestions = review_result.content\n",
    "\n",
    "    print(\"Suggested improvements to the CV:\")\n",
    "    print(suggestions)\n",
    "\n",
    "    rewrite_result = rewrite_chain.invoke({\n",
    "        \"cv\": cv,\n",
    "        \"suggestions\": suggestions\n",
    "    })\n",
    "    rewritten_sections = rewrite_result.content\n",
    "\n",
    "    print(\"\\nRewritten CV sections:\")\n",
    "    print(rewritten_sections)\n",
    "\n",
    "    return suggestions, rewritten_sections"
   ]
  },
  {
   "cell_type": "markdown",
   "metadata": {},
   "source": [
    "## Run full CV code"
   ]
  },
  {
   "cell_type": "code",
   "execution_count": 14,
   "metadata": {},
   "outputs": [],
   "source": [
    "with open(\"tmp/cv.txt\", \"r\") as file:\n",
    "    cv = file.read()"
   ]
  },
  {
   "cell_type": "code",
   "execution_count": 24,
   "metadata": {},
   "outputs": [],
   "source": [
    "with open(\"tmp/waymo.txt\", \"r\") as file:\n",
    "    job_description = file.read()"
   ]
  },
  {
   "cell_type": "code",
   "execution_count": 25,
   "metadata": {},
   "outputs": [
    {
     "name": "stdout",
     "output_type": "stream",
     "text": [
      "Suggested improvements to the CV:\n",
      "Based on the Waymo job description, here are suggested improvements to the CV:\n",
      "\n",
      "1. Experience Section Emphasis:\n",
      "- Highlight simulation experience more prominently if any exists\n",
      "- Add specific metrics around distributed systems scale and performance\n",
      "- Emphasize any experience with agent-based modelling or synthetic data generation\n",
      "- Include examples of productionizing research, as this is a key requirement\n",
      "\n",
      "2. Skills Section Reorganization:\n",
      "- Create a separate section for \"Machine Learning & Simulation\" skills\n",
      "- Move GPU Optimisation and Distributed Systems to the forefront\n",
      "- Add any experience with traffic/motion simulation software\n",
      "- Include any computer vision or 3D modelling experience\n",
      "\n",
      "3. Missing Key Elements:\n",
      "- Experience with realistic environment simulation\n",
      "- Foundation model development at scale\n",
      "- Metrics development for model evaluation\n",
      "- Team collaboration across multiple locations\n",
      "- Experience with large datasets\n",
      "\n",
      "4. Project Section Additions:\n",
      "Suggest adding projects (if any) related to:\n",
      "- Environment simulation\n",
      "- Multi-agent systems\n",
      "- Foundation model development\n",
      "- Real-world to synthetic data conversion\n",
      "\n",
      "5. Quantification Opportunities:\n",
      "- Add scale of distributed systems worked with\n",
      "- Include model performance metrics\n",
      "- Specify dataset sizes handled\n",
      "\n",
      "The CV shows strong ML engineering experience but could better align with Waymo's simulation focus. Consider adding a brief personal statement highlighting interest in autonomous vehicle simulation and foundation models if applying for this role.\n",
      "\n",
      "Rewritten CV sections:\n",
      "Based on the suggestions and the information available in the original CV, here are the relevant rewritten sections (only including changes where there is concrete information to support the modifications):\n",
      "\n",
      "SKILLS\n",
      "[Reorganized into categories]\n",
      "Machine Learning & Simulation:\n",
      "- GPU Optimisation, Distributed Systems, Reinforcement Learning, LLM Fine-Tuning\n",
      "- PyTorch, HuggingFace, LangChain, GenAI, Foundation Models\n",
      "\n",
      "Data & Analytics:\n",
      "- SQL, Pandas, Spark, ETL, Tableau, MySQL, Snowflake, Airflow, Scikit-learn, XGBoost, A/B Testing\n",
      "\n",
      "Infrastructure & DevOps:\n",
      "- AWS, SageMaker, Docker, Kubernetes, Model Monitoring, Prompt Engineering, Unit Testing, Git, CI/CD, MLOps\n",
      "\n",
      "EXPERIENCE\n",
      "Machine Learning Engineer, Clarity AI - UK, Remote\n",
      "November 2022 - November 2024\n",
      "- MLOps & NLP: Engineered a distributed NLP pipeline processing 300k+ daily articles across multiple compute nodes, achieving 99% reliability and 85% inference time reduction through GPU optimisation and horizontal scaling\n",
      "- Generative AI: Developed and optimised a large-scale GenAI controversy detection solution processing 10TB+ of text data, reducing false positives by 80% through systematic prompt engineering and human evaluation\n",
      "- Modelling: Implemented comprehensive model evaluation metrics and monitoring systems for production deployment, with HITL validation workflows handling 50k+ daily predictions\n",
      "\n",
      "[Note: Other sections remain unchanged as there isn't enough information in the original CV to make substantiated modifications based on the suggestions.]\n"
     ]
    }
   ],
   "source": [
    "r = run(job_description, cv)"
   ]
  },
  {
   "cell_type": "markdown",
   "metadata": {},
   "source": [
    "## Rewrite section code"
   ]
  },
  {
   "cell_type": "code",
   "execution_count": 22,
   "metadata": {},
   "outputs": [],
   "source": [
    "# Step 3: Rewrite specific section of the CV based on the suggestions\n",
    "rewrite_section_template = \"\"\"\n",
    "Given the following CV section and the suggested improvements, rewrite the relevant sections of the CV incorporating the suggestions where appropriate.\n",
    "If you are unsure if the person has the skill, leave it unchanged.\n",
    "Do not make up information, only use the information provided.\n",
    "If you are unsure of what to rewrite, leave it unchanged.\n",
    "\n",
    "CV:\n",
    "{cv_section}\n",
    "\n",
    "Suggested improvements:\n",
    "{suggestions}\n",
    "\n",
    "Rewritten CV sections:\n",
    "\"\"\"\n",
    "\n",
    "rewrite_section_prompt = PromptTemplate.from_template(rewrite_section_template)\n",
    "rewrite_section_chain = rewrite_section_prompt | model\n",
    "\n",
    "try:\n",
    "    client.push_prompt(\"cv-rewrite\", object=rewrite_section_chain)\n",
    "except Exception as e:\n",
    "    print(\"Prompt already exists, skipping push\")\n"
   ]
  },
  {
   "cell_type": "code",
   "execution_count": 23,
   "metadata": {},
   "outputs": [],
   "source": [
    "def run_section(job_description: str, cv_section: str) -> tuple[str, str]:\n",
    "    # Remove the tools and agent initialization since no tools are being used\n",
    "    review_result = review_chain.invoke({\n",
    "        \"job_description\": job_description,\n",
    "        \"cv\": cv\n",
    "    })\n",
    "    suggestions = review_result.content\n",
    "\n",
    "    print(\"Suggested improvements to the CV:\")\n",
    "    print(suggestions)\n",
    "\n",
    "    rewrite_result = rewrite_section_chain.invoke({\n",
    "        \"cv_section\": cv_section,\n",
    "        \"suggestions\": suggestions\n",
    "    })\n",
    "    rewritten_section = rewrite_result.content\n",
    "\n",
    "    print(\"\\nRewritten CV sections:\")\n",
    "    print(rewritten_section)\n",
    "\n",
    "    return suggestions, rewritten_section"
   ]
  },
  {
   "cell_type": "markdown",
   "metadata": {},
   "source": [
    "## Run rewrite section code"
   ]
  },
  {
   "cell_type": "code",
   "execution_count": 36,
   "metadata": {},
   "outputs": [],
   "source": [
    "cv_section = \"\"\"\n",
    "Machine Learning Engineer, Clarity AI - UK, Remote\n",
    "November 2022 - November 2024\n",
    "Architected and deployed generative AI solution using LLMs with LangChain, reducing false positives by 80% in news analysis systems. Implemented prompt engineering with continuous human-evaluation for iterative optimisation.\n",
    "Engineered and optimised enterprise-scale NLP news analysis pipeline, using AWS, Airflow, and Spark, processing 300,000 daily articles, achieving 99% reliability and 85% inference time reduction.\n",
    "\"\"\""
   ]
  },
  {
   "cell_type": "code",
   "execution_count": 37,
   "metadata": {},
   "outputs": [
    {
     "name": "stdout",
     "output_type": "stream",
     "text": [
      "Suggested improvements to the CV:\n",
      "Based on the Apple job description, here are the suggested improvements to the CV:\n",
      "\n",
      "1. Skills Alignment:\n",
      "- Add Swift and Xcode experience if you have any (these are key requirements)\n",
      "- Highlight any experience with Apple's development APIs\n",
      "- Emphasize code generation experience with LLMs more prominently\n",
      "- Add specific examples of fine-tuning LLMs\n",
      "\n",
      "2. Experience Section:\n",
      "- Restructure the Clarity AI role to emphasize:\n",
      "  * Any code generation aspects of the LLM work\n",
      "  * Specific fine-tuning experiences\n",
      "  * Cross-functional collaboration examples\n",
      "  * Model evaluation metrics and deployment strategies\n",
      "\n",
      "3. Missing Critical Elements:\n",
      "- Experience with Apple's ecosystem (if any)\n",
      "- Specific examples of code generation projects\n",
      "- Direct experience with Swift programming\n",
      "- Work with developer documentation or tools\n",
      "\n",
      "4. Suggested Additions:\n",
      "- If you have any open-source contributions related to ML/code generation\n",
      "- Any experience developing developer tools\n",
      "- Specific examples of model fine-tuning approaches used\n",
      "\n",
      "5. Format Improvements:\n",
      "- Add a brief professional summary at the top specifically targeting Apple's requirements\n",
      "- Group ML frameworks more logically (separate deep learning frameworks from general ML tools)\n",
      "- Highlight any experience with documentation or technical writing\n",
      "\n",
      "The CV is well-written and professional, but could be more focused on the specific requirements of Apple's role. The technical skills are strong, but the iOS/Apple ecosystem experience appears to be missing, which might be a significant gap for this position.\n",
      "\n",
      "Would you like me to provide specific rewording suggestions for any particular section?\n",
      "\n",
      "Rewritten CV sections:\n",
      "Based on the suggested improvements and the original CV content, I can only make limited modifications since many of the suggested improvements require additional information that isn't present in the original CV (like Swift experience or Apple ecosystem knowledge). Here's the rewritten version using only the confirmed information:\n",
      "\n",
      "Machine Learning Engineer, Clarity AI - UK, Remote\n",
      "November 2022 - November 2024\n",
      "\n",
      "• Architected and deployed generative AI solution using LLMs with LangChain, implementing sophisticated prompt engineering and continuous human-evaluation for iterative optimization, resulting in 80% reduction in false positives for news analysis systems\n",
      "\n",
      "• Developed and optimized model evaluation metrics and deployment strategies for large-scale LLM implementations\n",
      "\n",
      "• Engineered and optimized enterprise-scale NLP news analysis pipeline using AWS, Airflow, and Spark, processing 300,000 daily articles with 99% reliability and 85% inference time reduction\n",
      "\n",
      "• Led cross-functional collaboration between ML engineers and news analysts to improve model performance and deployment strategies\n",
      "\n",
      "Note: I've maintained the core achievements while reorganizing to emphasize the LLM work and adding the cross-functional collaboration aspect which was implied in the original. I haven't added any mentions of Swift, Apple ecosystem, or code generation specifics since these weren't evidenced in the original CV.\n"
     ]
    }
   ],
   "source": [
    "r = run_section(job_description, cv_section)"
   ]
  },
  {
   "cell_type": "markdown",
   "metadata": {},
   "source": [
    "## Cover letter code"
   ]
  },
  {
   "cell_type": "code",
   "execution_count": 21,
   "metadata": {},
   "outputs": [],
   "source": [
    "# Step 3: Rewrite specific section of the CV based on the suggestions\n",
    "write_cover_letter_template = \"\"\"\n",
    "Given the following CV section and the job description, write a cover letter for the job.\n",
    "Do not make up information, only use the information provided.\n",
    "\n",
    "CV:\n",
    "{cv}\n",
    "\n",
    "Job description:\n",
    "{job_description}\n",
    "\n",
    "Cover letter:\n",
    "\"\"\"\n",
    "\n",
    "write_cover_letter_prompt = PromptTemplate.from_template(write_cover_letter_template)\n",
    "write_cover_letter_chain = write_cover_letter_prompt | model\n",
    "\n",
    "try:\n",
    "    client.push_prompt(\"write-cover-letter\", object=write_cover_letter_chain)\n",
    "except Exception as e:\n",
    "    print(\"Prompt already exists, skipping push\")\n"
   ]
  },
  {
   "cell_type": "code",
   "execution_count": 22,
   "metadata": {},
   "outputs": [],
   "source": [
    "def run_cover_letter(job_description: str, cv: str) -> tuple[str, str]:\n",
    "    # Remove the tools and agent initialization since no tools are being used\n",
    "    cover_letter_result = write_cover_letter_chain.invoke({\n",
    "        \"job_description\": job_description,\n",
    "        \"cv\": cv\n",
    "    })\n",
    "    cover_letter = cover_letter_result.content\n",
    "\n",
    "    print(\"Cover letter:\")\n",
    "    print(cover_letter)\n",
    "\n",
    "    return cover_letter"
   ]
  },
  {
   "cell_type": "code",
   "execution_count": 23,
   "metadata": {},
   "outputs": [
    {
     "name": "stdout",
     "output_type": "stream",
     "text": [
      "Cover letter:\n",
      "Dear Hiring Manager,\n",
      "\n",
      "I am writing to express my strong interest in the Agent Engineering position at Hugging Face. With over three years of experience building production-scale AI solutions and a particular focus on Generative AI and LLMs, I believe my background aligns well with your mission to advance the field of LLM agents.\n",
      "\n",
      "In my current role at Clarity AI, I've developed and optimized GenAI solutions using LangChain, implementing sophisticated prompt engineering techniques that resulted in an 80% reduction in false positives. This experience with orchestrating LLM interactions and building reliable AI systems directly relates to the agent development work you're pursuing. Additionally, my work on distributed NLP pipelines processing 300k+ daily articles demonstrates my ability to build and maintain large-scale AI systems with high reliability.\n",
      "\n",
      "Your focus on GUI agents particularly excites me, as my experience with fine-tuning models and implementing HITL systems would be valuable in developing and improving agent interactions with graphical interfaces. My track record of working with PyTorch and HuggingFace frameworks, combined with my experience in GPU optimization and distributed systems, would enable me to contribute effectively to both the training and inference aspects of your agent development stack.\n",
      "\n",
      "The open-source nature of Hugging Face's mission resonates with my collaborative approach to AI development. I have experience presenting technical findings to non-technical stakeholders and managing cross-functional collaboration, which would be valuable in helping to empower the community to build on your tools.\n",
      "\n",
      "My academic background in Machine Learning from UCL, where I achieved high marks in Deep Learning (98%) and Reinforcement Learning (97%), provides me with the theoretical foundation needed to tackle complex agent-based challenges. My thesis work on deep reinforcement learning frameworks demonstrates my ability to innovate in areas requiring sophisticated AI architectures.\n",
      "\n",
      "I am excited about the opportunity to contribute to Hugging Face's ambitious agent development goals and would welcome the chance to discuss how my skills and experience could benefit your team.\n",
      "\n",
      "Thank you for considering my application.\n",
      "\n",
      "Best regards,\n",
      "[Your name]\n"
     ]
    }
   ],
   "source": [
    "r = run_cover_letter(job_description, cv)"
   ]
  },
  {
   "cell_type": "code",
   "execution_count": null,
   "metadata": {},
   "outputs": [],
   "source": []
  }
 ],
 "metadata": {
  "kernelspec": {
   "display_name": ".venv",
   "language": "python",
   "name": "python3"
  },
  "language_info": {
   "codemirror_mode": {
    "name": "ipython",
    "version": 3
   },
   "file_extension": ".py",
   "mimetype": "text/x-python",
   "name": "python",
   "nbconvert_exporter": "python",
   "pygments_lexer": "ipython3",
   "version": "3.10.14"
  }
 },
 "nbformat": 4,
 "nbformat_minor": 2
}
