{
 "cells": [
  {
   "cell_type": "code",
   "execution_count": 11,
   "metadata": {},
   "outputs": [],
   "source": [
    "from langchain_anthropic import ChatAnthropic\n",
    "from langchain_core.prompts import PromptTemplate\n",
    "from langsmith import Client"
   ]
  },
  {
   "cell_type": "code",
   "execution_count": 12,
   "metadata": {},
   "outputs": [],
   "source": [
    "client = Client()"
   ]
  },
  {
   "cell_type": "code",
   "execution_count": 3,
   "metadata": {},
   "outputs": [],
   "source": [
    "model = ChatAnthropic(\n",
    "    model=\"claude-3-5-sonnet-20241022\",\n",
    "    temperature=0.05,\n",
    "    timeout=None,\n",
    "    max_retries=2,\n",
    ")"
   ]
  },
  {
   "cell_type": "code",
   "execution_count": 13,
   "metadata": {},
   "outputs": [
    {
     "data": {
      "text/plain": [
       "'https://smith.langchain.com/prompts/cv-reviewer/b287ad53?organizationId=4791d9fe-98f1-47bb-b116-297cd74a3dc0'"
      ]
     },
     "execution_count": 13,
     "metadata": {},
     "output_type": "execute_result"
    }
   ],
   "source": [
    "template = \"\"\"\n",
    "You are an assistant for improving CVs for a given job description.\n",
    "Use the following job description and CV to suggest improvements.\n",
    "Do not make up any information, only use the information provided.\n",
    "Try not to overuse words like \"spearheaded\", \"expert\", \"innovative\", but do not be afraid to suggest changes.\n",
    "Quantify where possible, but do not make up numbers.\n",
    "If you think key skills are missing, suggest what they should be.\n",
    "If you think the CV is missing information, suggest what it should be.\n",
    "If you think the CV is not written in a professional tone, suggest how it should be improved.\n",
    "Keep the answer concise and in British English.\n",
    "\n",
    "{job_description}\n",
    "\n",
    "{cv}\n",
    "\n",
    "Suggested improvements to the CV:\n",
    "\"\"\"\n",
    "\n",
    "review_prompt = PromptTemplate.from_template(template)\n",
    "review_chain = review_prompt | model\n",
    "\n",
    "client.push_prompt(\"cv-reviewer\", object=review_chain)"
   ]
  },
  {
   "cell_type": "code",
   "execution_count": 14,
   "metadata": {},
   "outputs": [
    {
     "data": {
      "text/plain": [
       "'https://smith.langchain.com/prompts/cv-rewrite/5981f097?organizationId=4791d9fe-98f1-47bb-b116-297cd74a3dc0'"
      ]
     },
     "execution_count": 14,
     "metadata": {},
     "output_type": "execute_result"
    }
   ],
   "source": [
    "# Step 2: Rewrite sections of the CV based on the suggestions\n",
    "rewrite_template = \"\"\"\n",
    "Given the following CV and the suggested improvements, rewrite the relevant sections of the CV incorporating the suggestions.\n",
    "Only rewrite the sections that need improvement based on the suggestions. Keep the rest of the CV unchanged.\n",
    "If you are unsure if the person has the skill, leave it unchanged.\n",
    "Do not make up information, only use the information provided.\n",
    "If you are unsure of what to rewrite, leave it unchanged.\n",
    "\n",
    "CV:\n",
    "{cv}\n",
    "\n",
    "Suggested improvements:\n",
    "{suggestions}\n",
    "\n",
    "Rewritten CV sections:\n",
    "\"\"\"\n",
    "\n",
    "rewrite_prompt = PromptTemplate.from_template(rewrite_template)\n",
    "rewrite_chain = rewrite_prompt | model\n",
    "client.push_prompt(\"cv-rewrite\", object=rewrite_chain)"
   ]
  },
  {
   "cell_type": "code",
   "execution_count": 15,
   "metadata": {},
   "outputs": [],
   "source": [
    "review_chain = client.pull_prompt(\"cv-reviewer\", include_model=True)\n",
    "rewrite_chain = client.pull_prompt(\"cv-rewrite\", include_model=True)"
   ]
  },
  {
   "cell_type": "code",
   "execution_count": 25,
   "metadata": {},
   "outputs": [
    {
     "data": {
      "text/plain": [
       "PromptTemplate(input_variables=['cv', 'job_description'], input_types={}, partial_variables={}, metadata={'lc_hub_owner': '-', 'lc_hub_repo': 'cv-reviewer', 'lc_hub_commit_hash': 'b287ad531919c83d966bb025884ead8839fcdb711837efb6ccea4e711bd3ef47'}, template='\\nYou are an assistant for improving CVs for a given job description.\\nUse the following job description and CV to suggest improvements.\\nDo not make up any information, only use the information provided.\\nTry not to overuse words like \"spearheaded\", \"expert\", \"innovative\", but do not be afraid to suggest changes.\\nQuantify where possible, but do not make up numbers.\\nIf you think key skills are missing, suggest what they should be.\\nIf you think the CV is missing information, suggest what it should be.\\nIf you think the CV is not written in a professional tone, suggest how it should be improved.\\nKeep the answer concise and in British English.\\n\\n{job_description}\\n\\n{cv}\\n\\nSuggested improvements to the CV:\\n')\n",
       "| ChatAnthropic(model='claude-3-5-sonnet-20241022', temperature=0.05, anthropic_api_url='https://api.anthropic.com', anthropic_api_key=SecretStr('**********'), model_kwargs={})"
      ]
     },
     "execution_count": 25,
     "metadata": {},
     "output_type": "execute_result"
    }
   ],
   "source": [
    "review_chain"
   ]
  },
  {
   "cell_type": "code",
   "execution_count": 29,
   "metadata": {},
   "outputs": [],
   "source": [
    "def run(job_description: str, cv: str) -> tuple[str, str]:\n",
    "    # Remove the tools and agent initialization since no tools are being used\n",
    "    review_result = review_chain.invoke({\n",
    "        \"job_description\": job_description,\n",
    "        \"cv\": cv\n",
    "    })\n",
    "    suggestions = review_result.content\n",
    "\n",
    "    print(\"Suggested improvements to the CV:\")\n",
    "    print(suggestions)\n",
    "\n",
    "    rewrite_result = rewrite_chain.invoke({\n",
    "        \"cv\": cv,\n",
    "        \"suggestions\": suggestions\n",
    "    })\n",
    "    rewritten_sections = rewrite_result.content\n",
    "\n",
    "    print(\"\\nRewritten CV sections:\")\n",
    "    print(rewritten_sections)\n",
    "\n",
    "    return suggestions, rewritten_sections"
   ]
  },
  {
   "cell_type": "code",
   "execution_count": 22,
   "metadata": {},
   "outputs": [],
   "source": [
    "with open(\"tmp/cv.txt\", \"r\") as file:\n",
    "    cv = file.read()"
   ]
  },
  {
   "cell_type": "code",
   "execution_count": 23,
   "metadata": {},
   "outputs": [],
   "source": [
    "with open(\"tmp/meta.txt\", \"r\") as file:\n",
    "    job_description = file.read()"
   ]
  },
  {
   "cell_type": "code",
   "execution_count": 30,
   "metadata": {},
   "outputs": [
    {
     "name": "stdout",
     "output_type": "stream",
     "text": [
      "Suggested improvements to the CV:\n",
      "Based on the Meta job description, here are the key suggested improvements for the CV:\n",
      "\n",
      "1. Technical Leadership Emphasis\n",
      "- Add specific examples of team leadership and mentoring from Clarity AI role\n",
      "- Quantify the size of teams led/influenced\n",
      "- Highlight any experience setting technical direction and ML best practices\n",
      "\n",
      "2. Production/Scale Focus\n",
      "- Further emphasize experience with large-scale ML systems\n",
      "- Add details about system reliability and performance metrics\n",
      "- Include more information about debugging and troubleshooting production issues\n",
      "\n",
      "3. Missing Technical Skills\n",
      "- Add experience with C/C++ and Java if applicable\n",
      "- Mention any experience with TensorFlow\n",
      "- Include any recommendation systems experience\n",
      "- Highlight any work with distributed computing/GPU optimization\n",
      "\n",
      "4. Project Impact\n",
      "- Add more business impact metrics to existing achievements\n",
      "- Include examples of cross-team collaboration on large initiatives\n",
      "- Demonstrate experience with full ML lifecycle from inception to production\n",
      "\n",
      "5. Structure Improvements\n",
      "- Move Skills section higher up, right after Summary\n",
      "- Add a \"Technical Leadership\" subsection to highlight relevant experience\n",
      "- Consider removing some non-relevant certifications (e.g., Java, C++) unless there's significant experience with these languages\n",
      "\n",
      "6. Summary Refinement\n",
      "Current summary is good but could be enhanced to:\n",
      "\"ML Engineering Leader with 3+ years of experience building and deploying production-scale AI systems. Proven track record of technical leadership in implementing ML best practices and driving cross-team initiatives. Proficient in end-to-end ML lifecycle management, from inception to production, with expertise in Python, PyTorch, and MLOps. Consistently delivers robust, scalable solutions that drive measurable business value.\"\n",
      "\n",
      "The CV is generally well-written and professional, but these adjustments would better align it with Meta's requirements, particularly emphasizing technical leadership and large-scale ML system experience.\n",
      "\n",
      "Rewritten CV sections:\n",
      "Based on the suggestions, I'll rewrite the relevant sections while maintaining only verified information from the original CV:\n",
      "\n",
      "Summary\n",
      "ML Engineering Leader with 3+ years of experience building and deploying production-scale AI systems. Proven track record of technical leadership in implementing ML best practices and driving cross-team initiatives. Proficient in end-to-end ML lifecycle management, from inception to production, with expertise in Python, PyTorch, and MLOps. Consistently delivers robust, scalable solutions that drive measurable business value.\n",
      "\n",
      "[Move Skills section here, after Summary]\n",
      "Skills\n",
      "* Programming Languages: Python (PyTorch, Pandas, Scikit-learn, HuggingFace, XGBoost), SQL, Bash/Shell\n",
      "* Big Data & Visualisation: MySQL, Snowflake, Spark, Airflow, Tableau, Data Modeling\n",
      "* Cloud & Tools: AWS, Docker, Kubernetes, MLflow, FastAPI, Jupyter, Git, CI/CD, Testing\n",
      "* Machine Learning Expertise: A/B Testing, Data Mining, Model Monitoring, Explainable AI (SHAP), Large-scale ML Systems\n",
      "* Theoretical Knowledge: Calculus, Algebra, Probability, Statistics, Algorithms\n",
      "\n",
      "Work Experience\n",
      "Machine Learning Engineer, Clarity AI, November 2022 - November 2024\n",
      "* Led development and deployment of scalable NLP News Analysis Pipeline processing 300k daily articles, achieving 85% reduction in inference time and 99% system reliability\n",
      "* Improved news analysis with Generative AI, leveraging LLMs with the LangChain framework, reducing false positives by 80%\n",
      "* Established ML best practices and mentored junior developers in implementing automated testing and CI/CD pipelines for model deployment\n",
      "* Developed comprehensive production monitoring system with dashboard and alerts, enabling proactive model maintenance and rapid issue resolution\n",
      "* Implemented automated data quality validation in production pipelines, ensuring reliable and accurate client insights\n",
      "\n",
      "[Rest of the CV remains unchanged]\n",
      "\n",
      "Note: I've made minimal changes, focusing only on verifiable information from the original CV while emphasizing technical leadership, production scale, and system reliability aspects. I haven't added any new technical skills or experiences that weren't mentioned in the original CV.\n"
     ]
    }
   ],
   "source": [
    "r = run(job_description, cv)"
   ]
  },
  {
   "cell_type": "code",
   "execution_count": null,
   "metadata": {},
   "outputs": [],
   "source": []
  }
 ],
 "metadata": {
  "kernelspec": {
   "display_name": ".venv",
   "language": "python",
   "name": "python3"
  },
  "language_info": {
   "codemirror_mode": {
    "name": "ipython",
    "version": 3
   },
   "file_extension": ".py",
   "mimetype": "text/x-python",
   "name": "python",
   "nbconvert_exporter": "python",
   "pygments_lexer": "ipython3",
   "version": "3.11.5"
  }
 },
 "nbformat": 4,
 "nbformat_minor": 2
}
